{
 "cells": [
  {
   "cell_type": "code",
   "execution_count": 29,
   "metadata": {},
   "outputs": [],
   "source": [
    "from path import Path\n",
    "import pandas as pd\n",
    "import seaborn as sns\n",
    "import numpy as np\n",
    "\n",
    "import matplotlib.pyplot as plt\n",
    "%matplotlib inline"
   ]
  },
  {
   "cell_type": "markdown",
   "metadata": {},
   "source": [
    "## Exploración básica"
   ]
  },
  {
   "cell_type": "code",
   "execution_count": 2,
   "metadata": {},
   "outputs": [],
   "source": [
    "path = Path('../input/ashrae-energy-prediction')"
   ]
  },
  {
   "cell_type": "code",
   "execution_count": 3,
   "metadata": {},
   "outputs": [
    {
     "name": "stdout",
     "output_type": "stream",
     "text": [
      "building_metadata.csv  kernels\t\t      test.csv\t weather_test.csv\r\n",
      "input\t\t       sample_submission.csv  train.csv  weather_train.csv\r\n"
     ]
    }
   ],
   "source": [
    "! ls {path}"
   ]
  },
  {
   "cell_type": "markdown",
   "metadata": {},
   "source": [
    "### Datos de entrenamiento"
   ]
  },
  {
   "cell_type": "code",
   "execution_count": 4,
   "metadata": {},
   "outputs": [],
   "source": [
    "train_df      = pd.read_csv(path/'train.csv')\n",
    "train_weather = pd.read_csv(path/\"weather_train.csv\")"
   ]
  },
  {
   "cell_type": "markdown",
   "metadata": {},
   "source": [
    "### Datos de test"
   ]
  },
  {
   "cell_type": "code",
   "execution_count": 41,
   "metadata": {},
   "outputs": [],
   "source": [
    "test_df       = pd.read_csv(path/'test.csv')\n",
    "test_weather  = pd.read_csv(path/\"weather_test.csv\")"
   ]
  },
  {
   "cell_type": "markdown",
   "metadata": {},
   "source": [
    "### Edificios"
   ]
  },
  {
   "cell_type": "code",
   "execution_count": 42,
   "metadata": {},
   "outputs": [],
   "source": [
    "building_df   = pd.read_csv(path/'building_metadata.csv')"
   ]
  },
  {
   "cell_type": "markdown",
   "metadata": {},
   "source": [
    "### ¿Qué hay en los CSVs?"
   ]
  },
  {
   "cell_type": "code",
   "execution_count": 43,
   "metadata": {},
   "outputs": [
    {
     "data": {
      "text/html": [
       "<div>\n",
       "<style scoped>\n",
       "    .dataframe tbody tr th:only-of-type {\n",
       "        vertical-align: middle;\n",
       "    }\n",
       "\n",
       "    .dataframe tbody tr th {\n",
       "        vertical-align: top;\n",
       "    }\n",
       "\n",
       "    .dataframe thead th {\n",
       "        text-align: right;\n",
       "    }\n",
       "</style>\n",
       "<table border=\"1\" class=\"dataframe\">\n",
       "  <thead>\n",
       "    <tr style=\"text-align: right;\">\n",
       "      <th></th>\n",
       "      <th>building_id</th>\n",
       "      <th>meter</th>\n",
       "      <th>timestamp</th>\n",
       "      <th>meter_reading</th>\n",
       "    </tr>\n",
       "  </thead>\n",
       "  <tbody>\n",
       "    <tr>\n",
       "      <th>0</th>\n",
       "      <td>0</td>\n",
       "      <td>0</td>\n",
       "      <td>2016-01-01 00:00:00</td>\n",
       "      <td>0.0</td>\n",
       "    </tr>\n",
       "    <tr>\n",
       "      <th>1</th>\n",
       "      <td>1</td>\n",
       "      <td>0</td>\n",
       "      <td>2016-01-01 00:00:00</td>\n",
       "      <td>0.0</td>\n",
       "    </tr>\n",
       "    <tr>\n",
       "      <th>2</th>\n",
       "      <td>2</td>\n",
       "      <td>0</td>\n",
       "      <td>2016-01-01 00:00:00</td>\n",
       "      <td>0.0</td>\n",
       "    </tr>\n",
       "    <tr>\n",
       "      <th>3</th>\n",
       "      <td>3</td>\n",
       "      <td>0</td>\n",
       "      <td>2016-01-01 00:00:00</td>\n",
       "      <td>0.0</td>\n",
       "    </tr>\n",
       "    <tr>\n",
       "      <th>4</th>\n",
       "      <td>4</td>\n",
       "      <td>0</td>\n",
       "      <td>2016-01-01 00:00:00</td>\n",
       "      <td>0.0</td>\n",
       "    </tr>\n",
       "  </tbody>\n",
       "</table>\n",
       "</div>"
      ],
      "text/plain": [
       "   building_id  meter            timestamp  meter_reading\n",
       "0            0      0  2016-01-01 00:00:00            0.0\n",
       "1            1      0  2016-01-01 00:00:00            0.0\n",
       "2            2      0  2016-01-01 00:00:00            0.0\n",
       "3            3      0  2016-01-01 00:00:00            0.0\n",
       "4            4      0  2016-01-01 00:00:00            0.0"
      ]
     },
     "metadata": {},
     "output_type": "display_data"
    },
    {
     "data": {
      "text/html": [
       "<div>\n",
       "<style scoped>\n",
       "    .dataframe tbody tr th:only-of-type {\n",
       "        vertical-align: middle;\n",
       "    }\n",
       "\n",
       "    .dataframe tbody tr th {\n",
       "        vertical-align: top;\n",
       "    }\n",
       "\n",
       "    .dataframe thead th {\n",
       "        text-align: right;\n",
       "    }\n",
       "</style>\n",
       "<table border=\"1\" class=\"dataframe\">\n",
       "  <thead>\n",
       "    <tr style=\"text-align: right;\">\n",
       "      <th></th>\n",
       "      <th>row_id</th>\n",
       "      <th>building_id</th>\n",
       "      <th>meter</th>\n",
       "      <th>timestamp</th>\n",
       "    </tr>\n",
       "  </thead>\n",
       "  <tbody>\n",
       "    <tr>\n",
       "      <th>0</th>\n",
       "      <td>0</td>\n",
       "      <td>0</td>\n",
       "      <td>0</td>\n",
       "      <td>2017-01-01 00:00:00</td>\n",
       "    </tr>\n",
       "    <tr>\n",
       "      <th>1</th>\n",
       "      <td>1</td>\n",
       "      <td>1</td>\n",
       "      <td>0</td>\n",
       "      <td>2017-01-01 00:00:00</td>\n",
       "    </tr>\n",
       "    <tr>\n",
       "      <th>2</th>\n",
       "      <td>2</td>\n",
       "      <td>2</td>\n",
       "      <td>0</td>\n",
       "      <td>2017-01-01 00:00:00</td>\n",
       "    </tr>\n",
       "    <tr>\n",
       "      <th>3</th>\n",
       "      <td>3</td>\n",
       "      <td>3</td>\n",
       "      <td>0</td>\n",
       "      <td>2017-01-01 00:00:00</td>\n",
       "    </tr>\n",
       "    <tr>\n",
       "      <th>4</th>\n",
       "      <td>4</td>\n",
       "      <td>4</td>\n",
       "      <td>0</td>\n",
       "      <td>2017-01-01 00:00:00</td>\n",
       "    </tr>\n",
       "  </tbody>\n",
       "</table>\n",
       "</div>"
      ],
      "text/plain": [
       "   row_id  building_id  meter            timestamp\n",
       "0       0            0      0  2017-01-01 00:00:00\n",
       "1       1            1      0  2017-01-01 00:00:00\n",
       "2       2            2      0  2017-01-01 00:00:00\n",
       "3       3            3      0  2017-01-01 00:00:00\n",
       "4       4            4      0  2017-01-01 00:00:00"
      ]
     },
     "metadata": {},
     "output_type": "display_data"
    },
    {
     "data": {
      "text/html": [
       "<div>\n",
       "<style scoped>\n",
       "    .dataframe tbody tr th:only-of-type {\n",
       "        vertical-align: middle;\n",
       "    }\n",
       "\n",
       "    .dataframe tbody tr th {\n",
       "        vertical-align: top;\n",
       "    }\n",
       "\n",
       "    .dataframe thead th {\n",
       "        text-align: right;\n",
       "    }\n",
       "</style>\n",
       "<table border=\"1\" class=\"dataframe\">\n",
       "  <thead>\n",
       "    <tr style=\"text-align: right;\">\n",
       "      <th></th>\n",
       "      <th>site_id</th>\n",
       "      <th>timestamp</th>\n",
       "      <th>air_temperature</th>\n",
       "      <th>cloud_coverage</th>\n",
       "      <th>dew_temperature</th>\n",
       "      <th>precip_depth_1_hr</th>\n",
       "      <th>sea_level_pressure</th>\n",
       "      <th>wind_direction</th>\n",
       "      <th>wind_speed</th>\n",
       "    </tr>\n",
       "  </thead>\n",
       "  <tbody>\n",
       "    <tr>\n",
       "      <th>0</th>\n",
       "      <td>0</td>\n",
       "      <td>2016-01-01 00:00:00</td>\n",
       "      <td>25.0</td>\n",
       "      <td>6.0</td>\n",
       "      <td>20.0</td>\n",
       "      <td>NaN</td>\n",
       "      <td>1019.7</td>\n",
       "      <td>0.0</td>\n",
       "      <td>0.0</td>\n",
       "    </tr>\n",
       "    <tr>\n",
       "      <th>1</th>\n",
       "      <td>0</td>\n",
       "      <td>2016-01-01 01:00:00</td>\n",
       "      <td>24.4</td>\n",
       "      <td>NaN</td>\n",
       "      <td>21.1</td>\n",
       "      <td>-1.0</td>\n",
       "      <td>1020.2</td>\n",
       "      <td>70.0</td>\n",
       "      <td>1.5</td>\n",
       "    </tr>\n",
       "    <tr>\n",
       "      <th>2</th>\n",
       "      <td>0</td>\n",
       "      <td>2016-01-01 02:00:00</td>\n",
       "      <td>22.8</td>\n",
       "      <td>2.0</td>\n",
       "      <td>21.1</td>\n",
       "      <td>0.0</td>\n",
       "      <td>1020.2</td>\n",
       "      <td>0.0</td>\n",
       "      <td>0.0</td>\n",
       "    </tr>\n",
       "    <tr>\n",
       "      <th>3</th>\n",
       "      <td>0</td>\n",
       "      <td>2016-01-01 03:00:00</td>\n",
       "      <td>21.1</td>\n",
       "      <td>2.0</td>\n",
       "      <td>20.6</td>\n",
       "      <td>0.0</td>\n",
       "      <td>1020.1</td>\n",
       "      <td>0.0</td>\n",
       "      <td>0.0</td>\n",
       "    </tr>\n",
       "    <tr>\n",
       "      <th>4</th>\n",
       "      <td>0</td>\n",
       "      <td>2016-01-01 04:00:00</td>\n",
       "      <td>20.0</td>\n",
       "      <td>2.0</td>\n",
       "      <td>20.0</td>\n",
       "      <td>-1.0</td>\n",
       "      <td>1020.0</td>\n",
       "      <td>250.0</td>\n",
       "      <td>2.6</td>\n",
       "    </tr>\n",
       "  </tbody>\n",
       "</table>\n",
       "</div>"
      ],
      "text/plain": [
       "   site_id            timestamp  air_temperature  cloud_coverage  \\\n",
       "0        0  2016-01-01 00:00:00             25.0             6.0   \n",
       "1        0  2016-01-01 01:00:00             24.4             NaN   \n",
       "2        0  2016-01-01 02:00:00             22.8             2.0   \n",
       "3        0  2016-01-01 03:00:00             21.1             2.0   \n",
       "4        0  2016-01-01 04:00:00             20.0             2.0   \n",
       "\n",
       "   dew_temperature  precip_depth_1_hr  sea_level_pressure  wind_direction  \\\n",
       "0             20.0                NaN              1019.7             0.0   \n",
       "1             21.1               -1.0              1020.2            70.0   \n",
       "2             21.1                0.0              1020.2             0.0   \n",
       "3             20.6                0.0              1020.1             0.0   \n",
       "4             20.0               -1.0              1020.0           250.0   \n",
       "\n",
       "   wind_speed  \n",
       "0         0.0  \n",
       "1         1.5  \n",
       "2         0.0  \n",
       "3         0.0  \n",
       "4         2.6  "
      ]
     },
     "metadata": {},
     "output_type": "display_data"
    },
    {
     "data": {
      "text/html": [
       "<div>\n",
       "<style scoped>\n",
       "    .dataframe tbody tr th:only-of-type {\n",
       "        vertical-align: middle;\n",
       "    }\n",
       "\n",
       "    .dataframe tbody tr th {\n",
       "        vertical-align: top;\n",
       "    }\n",
       "\n",
       "    .dataframe thead th {\n",
       "        text-align: right;\n",
       "    }\n",
       "</style>\n",
       "<table border=\"1\" class=\"dataframe\">\n",
       "  <thead>\n",
       "    <tr style=\"text-align: right;\">\n",
       "      <th></th>\n",
       "      <th>site_id</th>\n",
       "      <th>timestamp</th>\n",
       "      <th>air_temperature</th>\n",
       "      <th>cloud_coverage</th>\n",
       "      <th>dew_temperature</th>\n",
       "      <th>precip_depth_1_hr</th>\n",
       "      <th>sea_level_pressure</th>\n",
       "      <th>wind_direction</th>\n",
       "      <th>wind_speed</th>\n",
       "    </tr>\n",
       "  </thead>\n",
       "  <tbody>\n",
       "    <tr>\n",
       "      <th>0</th>\n",
       "      <td>0</td>\n",
       "      <td>2017-01-01 00:00:00</td>\n",
       "      <td>17.8</td>\n",
       "      <td>4.0</td>\n",
       "      <td>11.7</td>\n",
       "      <td>NaN</td>\n",
       "      <td>1021.4</td>\n",
       "      <td>100.0</td>\n",
       "      <td>3.6</td>\n",
       "    </tr>\n",
       "    <tr>\n",
       "      <th>1</th>\n",
       "      <td>0</td>\n",
       "      <td>2017-01-01 01:00:00</td>\n",
       "      <td>17.8</td>\n",
       "      <td>2.0</td>\n",
       "      <td>12.8</td>\n",
       "      <td>0.0</td>\n",
       "      <td>1022.0</td>\n",
       "      <td>130.0</td>\n",
       "      <td>3.1</td>\n",
       "    </tr>\n",
       "    <tr>\n",
       "      <th>2</th>\n",
       "      <td>0</td>\n",
       "      <td>2017-01-01 02:00:00</td>\n",
       "      <td>16.1</td>\n",
       "      <td>0.0</td>\n",
       "      <td>12.8</td>\n",
       "      <td>0.0</td>\n",
       "      <td>1021.9</td>\n",
       "      <td>140.0</td>\n",
       "      <td>3.1</td>\n",
       "    </tr>\n",
       "    <tr>\n",
       "      <th>3</th>\n",
       "      <td>0</td>\n",
       "      <td>2017-01-01 03:00:00</td>\n",
       "      <td>17.2</td>\n",
       "      <td>0.0</td>\n",
       "      <td>13.3</td>\n",
       "      <td>0.0</td>\n",
       "      <td>1022.2</td>\n",
       "      <td>140.0</td>\n",
       "      <td>3.1</td>\n",
       "    </tr>\n",
       "    <tr>\n",
       "      <th>4</th>\n",
       "      <td>0</td>\n",
       "      <td>2017-01-01 04:00:00</td>\n",
       "      <td>16.7</td>\n",
       "      <td>2.0</td>\n",
       "      <td>13.3</td>\n",
       "      <td>0.0</td>\n",
       "      <td>1022.3</td>\n",
       "      <td>130.0</td>\n",
       "      <td>2.6</td>\n",
       "    </tr>\n",
       "  </tbody>\n",
       "</table>\n",
       "</div>"
      ],
      "text/plain": [
       "   site_id            timestamp  air_temperature  cloud_coverage  \\\n",
       "0        0  2017-01-01 00:00:00             17.8             4.0   \n",
       "1        0  2017-01-01 01:00:00             17.8             2.0   \n",
       "2        0  2017-01-01 02:00:00             16.1             0.0   \n",
       "3        0  2017-01-01 03:00:00             17.2             0.0   \n",
       "4        0  2017-01-01 04:00:00             16.7             2.0   \n",
       "\n",
       "   dew_temperature  precip_depth_1_hr  sea_level_pressure  wind_direction  \\\n",
       "0             11.7                NaN              1021.4           100.0   \n",
       "1             12.8                0.0              1022.0           130.0   \n",
       "2             12.8                0.0              1021.9           140.0   \n",
       "3             13.3                0.0              1022.2           140.0   \n",
       "4             13.3                0.0              1022.3           130.0   \n",
       "\n",
       "   wind_speed  \n",
       "0         3.6  \n",
       "1         3.1  \n",
       "2         3.1  \n",
       "3         3.1  \n",
       "4         2.6  "
      ]
     },
     "metadata": {},
     "output_type": "display_data"
    },
    {
     "data": {
      "text/html": [
       "<div>\n",
       "<style scoped>\n",
       "    .dataframe tbody tr th:only-of-type {\n",
       "        vertical-align: middle;\n",
       "    }\n",
       "\n",
       "    .dataframe tbody tr th {\n",
       "        vertical-align: top;\n",
       "    }\n",
       "\n",
       "    .dataframe thead th {\n",
       "        text-align: right;\n",
       "    }\n",
       "</style>\n",
       "<table border=\"1\" class=\"dataframe\">\n",
       "  <thead>\n",
       "    <tr style=\"text-align: right;\">\n",
       "      <th></th>\n",
       "      <th>site_id</th>\n",
       "      <th>building_id</th>\n",
       "      <th>primary_use</th>\n",
       "      <th>square_feet</th>\n",
       "      <th>year_built</th>\n",
       "      <th>floor_count</th>\n",
       "    </tr>\n",
       "  </thead>\n",
       "  <tbody>\n",
       "    <tr>\n",
       "      <th>0</th>\n",
       "      <td>0</td>\n",
       "      <td>0</td>\n",
       "      <td>Education</td>\n",
       "      <td>7432</td>\n",
       "      <td>2008.0</td>\n",
       "      <td>NaN</td>\n",
       "    </tr>\n",
       "    <tr>\n",
       "      <th>1</th>\n",
       "      <td>0</td>\n",
       "      <td>1</td>\n",
       "      <td>Education</td>\n",
       "      <td>2720</td>\n",
       "      <td>2004.0</td>\n",
       "      <td>NaN</td>\n",
       "    </tr>\n",
       "    <tr>\n",
       "      <th>2</th>\n",
       "      <td>0</td>\n",
       "      <td>2</td>\n",
       "      <td>Education</td>\n",
       "      <td>5376</td>\n",
       "      <td>1991.0</td>\n",
       "      <td>NaN</td>\n",
       "    </tr>\n",
       "    <tr>\n",
       "      <th>3</th>\n",
       "      <td>0</td>\n",
       "      <td>3</td>\n",
       "      <td>Education</td>\n",
       "      <td>23685</td>\n",
       "      <td>2002.0</td>\n",
       "      <td>NaN</td>\n",
       "    </tr>\n",
       "    <tr>\n",
       "      <th>4</th>\n",
       "      <td>0</td>\n",
       "      <td>4</td>\n",
       "      <td>Education</td>\n",
       "      <td>116607</td>\n",
       "      <td>1975.0</td>\n",
       "      <td>NaN</td>\n",
       "    </tr>\n",
       "  </tbody>\n",
       "</table>\n",
       "</div>"
      ],
      "text/plain": [
       "   site_id  building_id primary_use  square_feet  year_built  floor_count\n",
       "0        0            0   Education         7432      2008.0          NaN\n",
       "1        0            1   Education         2720      2004.0          NaN\n",
       "2        0            2   Education         5376      1991.0          NaN\n",
       "3        0            3   Education        23685      2002.0          NaN\n",
       "4        0            4   Education       116607      1975.0          NaN"
      ]
     },
     "metadata": {},
     "output_type": "display_data"
    }
   ],
   "source": [
    "display(train_df.head())\n",
    "display( test_df.head())\n",
    "\n",
    "display(train_weather.head())\n",
    "display( test_weather.head())\n",
    "\n",
    "display(building_df.head())"
   ]
  },
  {
   "cell_type": "markdown",
   "metadata": {},
   "source": [
    "### ¿Hay NaNs? ¿Faltan datos?"
   ]
  },
  {
   "cell_type": "code",
   "execution_count": 57,
   "metadata": {},
   "outputs": [
    {
     "name": "stdout",
     "output_type": "stream",
     "text": [
      "Train\n"
     ]
    },
    {
     "data": {
      "text/html": [
       "<div>\n",
       "<style scoped>\n",
       "    .dataframe tbody tr th:only-of-type {\n",
       "        vertical-align: middle;\n",
       "    }\n",
       "\n",
       "    .dataframe tbody tr th {\n",
       "        vertical-align: top;\n",
       "    }\n",
       "\n",
       "    .dataframe thead th {\n",
       "        text-align: right;\n",
       "    }\n",
       "</style>\n",
       "<table border=\"1\" class=\"dataframe\">\n",
       "  <thead>\n",
       "    <tr style=\"text-align: right;\">\n",
       "      <th></th>\n",
       "      <th>Total</th>\n",
       "      <th>Percent missing</th>\n",
       "    </tr>\n",
       "  </thead>\n",
       "  <tbody>\n",
       "    <tr>\n",
       "      <th>meter_reading</th>\n",
       "      <td>0</td>\n",
       "      <td>0.0</td>\n",
       "    </tr>\n",
       "    <tr>\n",
       "      <th>timestamp</th>\n",
       "      <td>0</td>\n",
       "      <td>0.0</td>\n",
       "    </tr>\n",
       "    <tr>\n",
       "      <th>meter</th>\n",
       "      <td>0</td>\n",
       "      <td>0.0</td>\n",
       "    </tr>\n",
       "    <tr>\n",
       "      <th>building_id</th>\n",
       "      <td>0</td>\n",
       "      <td>0.0</td>\n",
       "    </tr>\n",
       "  </tbody>\n",
       "</table>\n",
       "</div>"
      ],
      "text/plain": [
       "               Total  Percent missing\n",
       "meter_reading      0              0.0\n",
       "timestamp          0              0.0\n",
       "meter              0              0.0\n",
       "building_id        0              0.0"
      ]
     },
     "metadata": {},
     "output_type": "display_data"
    },
    {
     "data": {
      "text/html": [
       "<div>\n",
       "<style scoped>\n",
       "    .dataframe tbody tr th:only-of-type {\n",
       "        vertical-align: middle;\n",
       "    }\n",
       "\n",
       "    .dataframe tbody tr th {\n",
       "        vertical-align: top;\n",
       "    }\n",
       "\n",
       "    .dataframe thead th {\n",
       "        text-align: right;\n",
       "    }\n",
       "</style>\n",
       "<table border=\"1\" class=\"dataframe\">\n",
       "  <thead>\n",
       "    <tr style=\"text-align: right;\">\n",
       "      <th></th>\n",
       "      <th>Total</th>\n",
       "      <th>Percent missing</th>\n",
       "    </tr>\n",
       "  </thead>\n",
       "  <tbody>\n",
       "    <tr>\n",
       "      <th>cloud_coverage</th>\n",
       "      <td>69173</td>\n",
       "      <td>49.489529</td>\n",
       "    </tr>\n",
       "    <tr>\n",
       "      <th>precip_depth_1_hr</th>\n",
       "      <td>50289</td>\n",
       "      <td>35.979052</td>\n",
       "    </tr>\n",
       "    <tr>\n",
       "      <th>sea_level_pressure</th>\n",
       "      <td>10618</td>\n",
       "      <td>7.596603</td>\n",
       "    </tr>\n",
       "    <tr>\n",
       "      <th>wind_direction</th>\n",
       "      <td>6268</td>\n",
       "      <td>4.484414</td>\n",
       "    </tr>\n",
       "    <tr>\n",
       "      <th>wind_speed</th>\n",
       "      <td>304</td>\n",
       "      <td>0.217496</td>\n",
       "    </tr>\n",
       "    <tr>\n",
       "      <th>dew_temperature</th>\n",
       "      <td>113</td>\n",
       "      <td>0.080845</td>\n",
       "    </tr>\n",
       "    <tr>\n",
       "      <th>air_temperature</th>\n",
       "      <td>55</td>\n",
       "      <td>0.039350</td>\n",
       "    </tr>\n",
       "    <tr>\n",
       "      <th>timestamp</th>\n",
       "      <td>0</td>\n",
       "      <td>0.000000</td>\n",
       "    </tr>\n",
       "    <tr>\n",
       "      <th>site_id</th>\n",
       "      <td>0</td>\n",
       "      <td>0.000000</td>\n",
       "    </tr>\n",
       "  </tbody>\n",
       "</table>\n",
       "</div>"
      ],
      "text/plain": [
       "                    Total  Percent missing\n",
       "cloud_coverage      69173        49.489529\n",
       "precip_depth_1_hr   50289        35.979052\n",
       "sea_level_pressure  10618         7.596603\n",
       "wind_direction       6268         4.484414\n",
       "wind_speed            304         0.217496\n",
       "dew_temperature       113         0.080845\n",
       "air_temperature        55         0.039350\n",
       "timestamp               0         0.000000\n",
       "site_id                 0         0.000000"
      ]
     },
     "metadata": {},
     "output_type": "display_data"
    },
    {
     "name": "stdout",
     "output_type": "stream",
     "text": [
      "Test\n"
     ]
    },
    {
     "data": {
      "text/html": [
       "<div>\n",
       "<style scoped>\n",
       "    .dataframe tbody tr th:only-of-type {\n",
       "        vertical-align: middle;\n",
       "    }\n",
       "\n",
       "    .dataframe tbody tr th {\n",
       "        vertical-align: top;\n",
       "    }\n",
       "\n",
       "    .dataframe thead th {\n",
       "        text-align: right;\n",
       "    }\n",
       "</style>\n",
       "<table border=\"1\" class=\"dataframe\">\n",
       "  <thead>\n",
       "    <tr style=\"text-align: right;\">\n",
       "      <th></th>\n",
       "      <th>Total</th>\n",
       "      <th>Percent missing</th>\n",
       "    </tr>\n",
       "  </thead>\n",
       "  <tbody>\n",
       "    <tr>\n",
       "      <th>timestamp</th>\n",
       "      <td>0</td>\n",
       "      <td>0.0</td>\n",
       "    </tr>\n",
       "    <tr>\n",
       "      <th>meter</th>\n",
       "      <td>0</td>\n",
       "      <td>0.0</td>\n",
       "    </tr>\n",
       "    <tr>\n",
       "      <th>building_id</th>\n",
       "      <td>0</td>\n",
       "      <td>0.0</td>\n",
       "    </tr>\n",
       "    <tr>\n",
       "      <th>row_id</th>\n",
       "      <td>0</td>\n",
       "      <td>0.0</td>\n",
       "    </tr>\n",
       "  </tbody>\n",
       "</table>\n",
       "</div>"
      ],
      "text/plain": [
       "             Total  Percent missing\n",
       "timestamp        0              0.0\n",
       "meter            0              0.0\n",
       "building_id      0              0.0\n",
       "row_id           0              0.0"
      ]
     },
     "metadata": {},
     "output_type": "display_data"
    },
    {
     "data": {
      "text/html": [
       "<div>\n",
       "<style scoped>\n",
       "    .dataframe tbody tr th:only-of-type {\n",
       "        vertical-align: middle;\n",
       "    }\n",
       "\n",
       "    .dataframe tbody tr th {\n",
       "        vertical-align: top;\n",
       "    }\n",
       "\n",
       "    .dataframe thead th {\n",
       "        text-align: right;\n",
       "    }\n",
       "</style>\n",
       "<table border=\"1\" class=\"dataframe\">\n",
       "  <thead>\n",
       "    <tr style=\"text-align: right;\">\n",
       "      <th></th>\n",
       "      <th>Total</th>\n",
       "      <th>Percent missing</th>\n",
       "    </tr>\n",
       "  </thead>\n",
       "  <tbody>\n",
       "    <tr>\n",
       "      <th>cloud_coverage</th>\n",
       "      <td>140448</td>\n",
       "      <td>50.658808</td>\n",
       "    </tr>\n",
       "    <tr>\n",
       "      <th>precip_depth_1_hr</th>\n",
       "      <td>95588</td>\n",
       "      <td>34.478057</td>\n",
       "    </tr>\n",
       "    <tr>\n",
       "      <th>sea_level_pressure</th>\n",
       "      <td>21265</td>\n",
       "      <td>7.670167</td>\n",
       "    </tr>\n",
       "    <tr>\n",
       "      <th>wind_direction</th>\n",
       "      <td>12370</td>\n",
       "      <td>4.461790</td>\n",
       "    </tr>\n",
       "    <tr>\n",
       "      <th>wind_speed</th>\n",
       "      <td>460</td>\n",
       "      <td>0.165919</td>\n",
       "    </tr>\n",
       "    <tr>\n",
       "      <th>dew_temperature</th>\n",
       "      <td>327</td>\n",
       "      <td>0.117947</td>\n",
       "    </tr>\n",
       "    <tr>\n",
       "      <th>air_temperature</th>\n",
       "      <td>104</td>\n",
       "      <td>0.037512</td>\n",
       "    </tr>\n",
       "    <tr>\n",
       "      <th>timestamp</th>\n",
       "      <td>0</td>\n",
       "      <td>0.000000</td>\n",
       "    </tr>\n",
       "    <tr>\n",
       "      <th>site_id</th>\n",
       "      <td>0</td>\n",
       "      <td>0.000000</td>\n",
       "    </tr>\n",
       "  </tbody>\n",
       "</table>\n",
       "</div>"
      ],
      "text/plain": [
       "                     Total  Percent missing\n",
       "cloud_coverage      140448        50.658808\n",
       "precip_depth_1_hr    95588        34.478057\n",
       "sea_level_pressure   21265         7.670167\n",
       "wind_direction       12370         4.461790\n",
       "wind_speed             460         0.165919\n",
       "dew_temperature        327         0.117947\n",
       "air_temperature        104         0.037512\n",
       "timestamp                0         0.000000\n",
       "site_id                  0         0.000000"
      ]
     },
     "metadata": {},
     "output_type": "display_data"
    },
    {
     "name": "stdout",
     "output_type": "stream",
     "text": [
      "Buildings\n"
     ]
    },
    {
     "data": {
      "text/html": [
       "<div>\n",
       "<style scoped>\n",
       "    .dataframe tbody tr th:only-of-type {\n",
       "        vertical-align: middle;\n",
       "    }\n",
       "\n",
       "    .dataframe tbody tr th {\n",
       "        vertical-align: top;\n",
       "    }\n",
       "\n",
       "    .dataframe thead th {\n",
       "        text-align: right;\n",
       "    }\n",
       "</style>\n",
       "<table border=\"1\" class=\"dataframe\">\n",
       "  <thead>\n",
       "    <tr style=\"text-align: right;\">\n",
       "      <th></th>\n",
       "      <th>Total</th>\n",
       "      <th>Percent missing</th>\n",
       "    </tr>\n",
       "  </thead>\n",
       "  <tbody>\n",
       "    <tr>\n",
       "      <th>floor_count</th>\n",
       "      <td>1094</td>\n",
       "      <td>75.500345</td>\n",
       "    </tr>\n",
       "    <tr>\n",
       "      <th>year_built</th>\n",
       "      <td>774</td>\n",
       "      <td>53.416149</td>\n",
       "    </tr>\n",
       "    <tr>\n",
       "      <th>square_feet</th>\n",
       "      <td>0</td>\n",
       "      <td>0.000000</td>\n",
       "    </tr>\n",
       "    <tr>\n",
       "      <th>primary_use</th>\n",
       "      <td>0</td>\n",
       "      <td>0.000000</td>\n",
       "    </tr>\n",
       "    <tr>\n",
       "      <th>building_id</th>\n",
       "      <td>0</td>\n",
       "      <td>0.000000</td>\n",
       "    </tr>\n",
       "    <tr>\n",
       "      <th>site_id</th>\n",
       "      <td>0</td>\n",
       "      <td>0.000000</td>\n",
       "    </tr>\n",
       "  </tbody>\n",
       "</table>\n",
       "</div>"
      ],
      "text/plain": [
       "             Total  Percent missing\n",
       "floor_count   1094        75.500345\n",
       "year_built     774        53.416149\n",
       "square_feet      0         0.000000\n",
       "primary_use      0         0.000000\n",
       "building_id      0         0.000000\n",
       "site_id          0         0.000000"
      ]
     },
     "metadata": {},
     "output_type": "display_data"
    }
   ],
   "source": [
    "def check_missing(df):\n",
    "    total = df.isnull().sum().sort_values(ascending = False)\n",
    "    percent = (df.isnull().sum()/df.isnull().count()*100).sort_values(ascending = False)\n",
    "    return pd.concat([total, percent], axis=1, keys=['Total', 'Percent missing'])\n",
    "print(\"Train\")\n",
    "display(check_missing(train_df))\n",
    "display(check_missing(train_weather))\n",
    "print(\"Test\")\n",
    "display(check_missing(test_df))\n",
    "display(check_missing(test_weather))\n",
    "print(\"Buildings\")\n",
    "display(check_missing(building_df))\n"
   ]
  },
  {
   "cell_type": "markdown",
   "metadata": {},
   "source": [
    "### Distribución de la variable objetivo: meter_reading"
   ]
  },
  {
   "cell_type": "code",
   "execution_count": 9,
   "metadata": {},
   "outputs": [
    {
     "data": {
      "text/plain": [
       "<matplotlib.axes._subplots.AxesSubplot at 0x7f9c3793ed68>"
      ]
     },
     "execution_count": 9,
     "metadata": {},
     "output_type": "execute_result"
    },
    {
     "data": {
      "image/png": "[encoded data removed]",
      "text/plain": [
       "<Figure size 432x288 with 1 Axes>"
      ]
     },
     "metadata": {
      "needs_background": "light"
     },
     "output_type": "display_data"
    }
   ],
   "source": [
    "sns.distplot(train_df['meter_reading'])"
   ]
  },
  {
   "cell_type": "markdown",
   "metadata": {},
   "source": [
    "🤔"
   ]
  },
  {
   "cell_type": "code",
   "execution_count": 51,
   "metadata": {},
   "outputs": [
    {
     "name": "stdout",
     "output_type": "stream",
     "text": [
      "1873976 zeros (9.27%)\n"
     ]
    }
   ],
   "source": [
    "n_train = train_df.shape[0]\n",
    "n_zeros = train_df[train_df['meter_reading']==0]['meter_reading'].shape[0]\n",
    "print(f'{n_zeros} zeros ({100*n_zeros/n_train:.2f}%)')"
   ]
  },
  {
   "cell_type": "code",
   "execution_count": 11,
   "metadata": {},
   "outputs": [
    {
     "data": {
      "text/plain": [
       "(array([20213045,      153,      197,      125,      123,      355,\n",
       "             422,      116,       58,       59,       34,       43,\n",
       "             104,      177,      370,      165,      174,      249,\n",
       "              95,       36]),\n",
       " array([       0.,  1095235.,  2190470.,  3285705.,  4380940.,  5476175.,\n",
       "         6571410.,  7666645.,  8761880.,  9857115., 10952350., 12047585.,\n",
       "        13142820., 14238055., 15333290., 16428525., 17523760., 18618995.,\n",
       "        19714230., 20809465., 21904700.]))"
      ]
     },
     "execution_count": 11,
     "metadata": {},
     "output_type": "execute_result"
    }
   ],
   "source": [
    "np.histogram(train_df['meter_reading'].values,bins=20)"
   ]
  },
  {
   "cell_type": "code",
   "execution_count": 53,
   "metadata": {},
   "outputs": [
    {
     "name": "stdout",
     "output_type": "stream",
     "text": [
      "5449.22\n"
     ]
    }
   ],
   "source": [
    "# 99% of data below:\n",
    "q_99 = train_df['meter_reading'].quantile(0.99)\n",
    "print(q_99)"
   ]
  },
  {
   "cell_type": "markdown",
   "metadata": {},
   "source": [
    "### Veamos distribución"
   ]
  },
  {
   "cell_type": "code",
   "execution_count": 54,
   "metadata": {},
   "outputs": [
    {
     "data": {
      "text/plain": [
       "<matplotlib.axes._subplots.AxesSubplot at 0x7f9c0fcdb9b0>"
      ]
     },
     "execution_count": 54,
     "metadata": {},
     "output_type": "execute_result"
    },
    {
     "data": {
      "image/png": "[encoded data removed]",
      "text/plain": [
       "<Figure size 432x288 with 1 Axes>"
      ]
     },
     "metadata": {
      "needs_background": "light"
     },
     "output_type": "display_data"
    }
   ],
   "source": [
    "sns.distplot(train_df[train_df['meter_reading']<=q_99]['meter_reading'])"
   ]
  },
  {
   "cell_type": "markdown",
   "metadata": {},
   "source": [
    "### Distribución si la transformamos con log1p"
   ]
  },
  {
   "cell_type": "code",
   "execution_count": 64,
   "metadata": {},
   "outputs": [
    {
     "data": {
      "text/plain": [
       "<matplotlib.axes._subplots.AxesSubplot at 0x7f9bec436518>"
      ]
     },
     "execution_count": 64,
     "metadata": {},
     "output_type": "execute_result"
    },
    {
     "data": {
      "image/png": "[encoded data removed]",
      "text/plain": [
       "<Figure size 432x288 with 1 Axes>"
      ]
     },
     "metadata": {
      "needs_background": "light"
     },
     "output_type": "display_data"
    }
   ],
   "source": [
    "sns.distplot(np.log1p(train_df['meter_reading']))"
   ]
  },
  {
   "cell_type": "code",
   "execution_count": 55,
   "metadata": {},
   "outputs": [
    {
     "data": {
      "text/plain": [
       "<matplotlib.axes._subplots.AxesSubplot at 0x7f9be426c5c0>"
      ]
     },
     "execution_count": 55,
     "metadata": {},
     "output_type": "execute_result"
    },
    {
     "data": {
      "image/png": "[encoded data removed]",
      "text/plain": [
       "<Figure size 432x288 with 1 Axes>"
      ]
     },
     "metadata": {
      "needs_background": "light"
     },
     "output_type": "display_data"
    }
   ],
   "source": [
    "sns.distplot(np.log1p(train_df[train_df['meter_reading']<=q_99]['meter_reading']))"
   ]
  },
  {
   "cell_type": "markdown",
   "metadata": {},
   "source": [
    "### Fechas"
   ]
  },
  {
   "cell_type": "code",
   "execution_count": 63,
   "metadata": {},
   "outputs": [
    {
     "name": "stdout",
     "output_type": "stream",
     "text": [
      "Train from 2016-01-01 00:00:00 to 2016-12-31 23:00:00\n",
      "Test  from 2017-01-01 00:00:00 to 2018-12-31 23:00:00\n"
     ]
    }
   ],
   "source": [
    "TS = 'timestamp'\n",
    "print(f'Train from {train_df[TS].min()} to {train_df[TS].max()}')\n",
    "print(f'Test  from { test_df[TS].min()} to { test_df[TS].max()}')"
   ]
  },
  {
   "cell_type": "markdown",
   "metadata": {},
   "source": [
    "### Edificios"
   ]
  },
  {
   "cell_type": "code",
   "execution_count": 75,
   "metadata": {},
   "outputs": [
    {
     "name": "stdout",
     "output_type": "stream",
     "text": [
      "Number of buildings: 1449\n"
     ]
    }
   ],
   "source": [
    "all_buildings = building_df['building_id'].values\n",
    "print(f\"Number of buildings: {len(all_buildings)}\")"
   ]
  },
  {
   "cell_type": "code",
   "execution_count": 72,
   "metadata": {},
   "outputs": [],
   "source": [
    "train_buildings, test_buildings = np.unique(train_df['building_id'].values), np.unique(test_df['building_id'].values)"
   ]
  },
  {
   "cell_type": "code",
   "execution_count": 74,
   "metadata": {},
   "outputs": [
    {
     "data": {
      "text/plain": [
       "(array([], dtype=int64), array([], dtype=int64))"
      ]
     },
     "execution_count": 74,
     "metadata": {},
     "output_type": "execute_result"
    }
   ],
   "source": [
    "# SAME buildings in test and train\n",
    "np.setdiff1d(all_buildings, train_buildings), np.setdiff1d(all_buildings, test_buildings)"
   ]
  },
  {
   "cell_type": "code",
   "execution_count": 86,
   "metadata": {},
   "outputs": [
    {
     "data": {
      "text/plain": [
       "<matplotlib.axes._subplots.AxesSubplot at 0x7f99e5e1dd30>"
      ]
     },
     "execution_count": 86,
     "metadata": {},
     "output_type": "execute_result"
    },
    {
     "data": {
      "image/png": "[encoded data removed]",
      "text/plain": [
       "<Figure size 432x288 with 1 Axes>"
      ]
     },
     "metadata": {
      "needs_background": "light"
     },
     "output_type": "display_data"
    }
   ],
   "source": [
    "# home many observations per building\n",
    "# train\n",
    "train_samples_per_building = [len(g) for i,g in train_df.groupby('building_id')]\n",
    "test_samples_per_building  = [len(g) for i,g in  test_df.groupby('building_id')]\n",
    "\n",
    "sns.distplot(          train_samples_per_building)\n",
    "sns.distplot(  np.array(test_samples_per_building)/2) # bc 2x samples in test"
   ]
  },
  {
   "cell_type": "code",
   "execution_count": 89,
   "metadata": {},
   "outputs": [
    {
     "data": {
      "text/html": [
       "<div>\n",
       "<style scoped>\n",
       "    .dataframe tbody tr th:only-of-type {\n",
       "        vertical-align: middle;\n",
       "    }\n",
       "\n",
       "    .dataframe tbody tr th {\n",
       "        vertical-align: top;\n",
       "    }\n",
       "\n",
       "    .dataframe thead th {\n",
       "        text-align: right;\n",
       "    }\n",
       "</style>\n",
       "<table border=\"1\" class=\"dataframe\">\n",
       "  <thead>\n",
       "    <tr style=\"text-align: right;\">\n",
       "      <th></th>\n",
       "      <th>building_id</th>\n",
       "      <th>meter</th>\n",
       "      <th>timestamp</th>\n",
       "      <th>meter_reading</th>\n",
       "    </tr>\n",
       "  </thead>\n",
       "  <tbody>\n",
       "    <tr>\n",
       "      <th>19085659</th>\n",
       "      <td>403</td>\n",
       "      <td>0</td>\n",
       "      <td>2016-12-12 01:00:00</td>\n",
       "      <td>44.35</td>\n",
       "    </tr>\n",
       "    <tr>\n",
       "      <th>19088023</th>\n",
       "      <td>403</td>\n",
       "      <td>0</td>\n",
       "      <td>2016-12-12 02:00:00</td>\n",
       "      <td>45.45</td>\n",
       "    </tr>\n",
       "    <tr>\n",
       "      <th>19090387</th>\n",
       "      <td>403</td>\n",
       "      <td>0</td>\n",
       "      <td>2016-12-12 03:00:00</td>\n",
       "      <td>44.82</td>\n",
       "    </tr>\n",
       "    <tr>\n",
       "      <th>19092751</th>\n",
       "      <td>403</td>\n",
       "      <td>0</td>\n",
       "      <td>2016-12-12 04:00:00</td>\n",
       "      <td>45.11</td>\n",
       "    </tr>\n",
       "    <tr>\n",
       "      <th>19095115</th>\n",
       "      <td>403</td>\n",
       "      <td>0</td>\n",
       "      <td>2016-12-12 05:00:00</td>\n",
       "      <td>44.73</td>\n",
       "    </tr>\n",
       "    <tr>\n",
       "      <th>19097478</th>\n",
       "      <td>403</td>\n",
       "      <td>0</td>\n",
       "      <td>2016-12-12 06:00:00</td>\n",
       "      <td>46.40</td>\n",
       "    </tr>\n",
       "    <tr>\n",
       "      <th>19099840</th>\n",
       "      <td>403</td>\n",
       "      <td>0</td>\n",
       "      <td>2016-12-12 07:00:00</td>\n",
       "      <td>53.90</td>\n",
       "    </tr>\n",
       "    <tr>\n",
       "      <th>19102203</th>\n",
       "      <td>403</td>\n",
       "      <td>0</td>\n",
       "      <td>2016-12-12 08:00:00</td>\n",
       "      <td>64.69</td>\n",
       "    </tr>\n",
       "    <tr>\n",
       "      <th>19104562</th>\n",
       "      <td>403</td>\n",
       "      <td>0</td>\n",
       "      <td>2016-12-12 09:00:00</td>\n",
       "      <td>77.52</td>\n",
       "    </tr>\n",
       "    <tr>\n",
       "      <th>19106915</th>\n",
       "      <td>403</td>\n",
       "      <td>0</td>\n",
       "      <td>2016-12-12 10:00:00</td>\n",
       "      <td>79.23</td>\n",
       "    </tr>\n",
       "    <tr>\n",
       "      <th>19109267</th>\n",
       "      <td>403</td>\n",
       "      <td>0</td>\n",
       "      <td>2016-12-12 11:00:00</td>\n",
       "      <td>77.24</td>\n",
       "    </tr>\n",
       "    <tr>\n",
       "      <th>19111605</th>\n",
       "      <td>403</td>\n",
       "      <td>0</td>\n",
       "      <td>2016-12-12 12:00:00</td>\n",
       "      <td>76.78</td>\n",
       "    </tr>\n",
       "    <tr>\n",
       "      <th>19113941</th>\n",
       "      <td>403</td>\n",
       "      <td>0</td>\n",
       "      <td>2016-12-12 13:00:00</td>\n",
       "      <td>76.63</td>\n",
       "    </tr>\n",
       "    <tr>\n",
       "      <th>19116277</th>\n",
       "      <td>403</td>\n",
       "      <td>0</td>\n",
       "      <td>2016-12-12 14:00:00</td>\n",
       "      <td>75.16</td>\n",
       "    </tr>\n",
       "    <tr>\n",
       "      <th>19118610</th>\n",
       "      <td>403</td>\n",
       "      <td>0</td>\n",
       "      <td>2016-12-12 15:00:00</td>\n",
       "      <td>72.72</td>\n",
       "    </tr>\n",
       "    <tr>\n",
       "      <th>19120947</th>\n",
       "      <td>403</td>\n",
       "      <td>0</td>\n",
       "      <td>2016-12-12 16:00:00</td>\n",
       "      <td>64.04</td>\n",
       "    </tr>\n",
       "    <tr>\n",
       "      <th>19123295</th>\n",
       "      <td>403</td>\n",
       "      <td>0</td>\n",
       "      <td>2016-12-12 17:00:00</td>\n",
       "      <td>57.48</td>\n",
       "    </tr>\n",
       "    <tr>\n",
       "      <th>19125646</th>\n",
       "      <td>403</td>\n",
       "      <td>0</td>\n",
       "      <td>2016-12-12 18:00:00</td>\n",
       "      <td>49.24</td>\n",
       "    </tr>\n",
       "    <tr>\n",
       "      <th>19128009</th>\n",
       "      <td>403</td>\n",
       "      <td>0</td>\n",
       "      <td>2016-12-12 19:00:00</td>\n",
       "      <td>46.98</td>\n",
       "    </tr>\n",
       "    <tr>\n",
       "      <th>19130375</th>\n",
       "      <td>403</td>\n",
       "      <td>0</td>\n",
       "      <td>2016-12-12 20:00:00</td>\n",
       "      <td>48.15</td>\n",
       "    </tr>\n",
       "    <tr>\n",
       "      <th>19132742</th>\n",
       "      <td>403</td>\n",
       "      <td>0</td>\n",
       "      <td>2016-12-12 21:00:00</td>\n",
       "      <td>47.51</td>\n",
       "    </tr>\n",
       "    <tr>\n",
       "      <th>19135109</th>\n",
       "      <td>403</td>\n",
       "      <td>0</td>\n",
       "      <td>2016-12-12 22:00:00</td>\n",
       "      <td>46.82</td>\n",
       "    </tr>\n",
       "    <tr>\n",
       "      <th>19137476</th>\n",
       "      <td>403</td>\n",
       "      <td>0</td>\n",
       "      <td>2016-12-12 23:00:00</td>\n",
       "      <td>47.07</td>\n",
       "    </tr>\n",
       "    <tr>\n",
       "      <th>19139842</th>\n",
       "      <td>403</td>\n",
       "      <td>0</td>\n",
       "      <td>2016-12-13 00:00:00</td>\n",
       "      <td>47.25</td>\n",
       "    </tr>\n",
       "    <tr>\n",
       "      <th>19142207</th>\n",
       "      <td>403</td>\n",
       "      <td>0</td>\n",
       "      <td>2016-12-13 01:00:00</td>\n",
       "      <td>46.78</td>\n",
       "    </tr>\n",
       "    <tr>\n",
       "      <th>19144573</th>\n",
       "      <td>403</td>\n",
       "      <td>0</td>\n",
       "      <td>2016-12-13 02:00:00</td>\n",
       "      <td>46.74</td>\n",
       "    </tr>\n",
       "    <tr>\n",
       "      <th>19146938</th>\n",
       "      <td>403</td>\n",
       "      <td>0</td>\n",
       "      <td>2016-12-13 03:00:00</td>\n",
       "      <td>46.90</td>\n",
       "    </tr>\n",
       "    <tr>\n",
       "      <th>19149304</th>\n",
       "      <td>403</td>\n",
       "      <td>0</td>\n",
       "      <td>2016-12-13 04:00:00</td>\n",
       "      <td>47.28</td>\n",
       "    </tr>\n",
       "    <tr>\n",
       "      <th>19151672</th>\n",
       "      <td>403</td>\n",
       "      <td>0</td>\n",
       "      <td>2016-12-13 05:00:00</td>\n",
       "      <td>46.50</td>\n",
       "    </tr>\n",
       "    <tr>\n",
       "      <th>19154037</th>\n",
       "      <td>403</td>\n",
       "      <td>0</td>\n",
       "      <td>2016-12-13 06:00:00</td>\n",
       "      <td>47.94</td>\n",
       "    </tr>\n",
       "    <tr>\n",
       "      <th>...</th>\n",
       "      <td>...</td>\n",
       "      <td>...</td>\n",
       "      <td>...</td>\n",
       "      <td>...</td>\n",
       "    </tr>\n",
       "    <tr>\n",
       "      <th>20145804</th>\n",
       "      <td>403</td>\n",
       "      <td>0</td>\n",
       "      <td>2016-12-30 18:00:00</td>\n",
       "      <td>43.64</td>\n",
       "    </tr>\n",
       "    <tr>\n",
       "      <th>20148165</th>\n",
       "      <td>403</td>\n",
       "      <td>0</td>\n",
       "      <td>2016-12-30 19:00:00</td>\n",
       "      <td>43.87</td>\n",
       "    </tr>\n",
       "    <tr>\n",
       "      <th>20150526</th>\n",
       "      <td>403</td>\n",
       "      <td>0</td>\n",
       "      <td>2016-12-30 20:00:00</td>\n",
       "      <td>44.32</td>\n",
       "    </tr>\n",
       "    <tr>\n",
       "      <th>20152889</th>\n",
       "      <td>403</td>\n",
       "      <td>0</td>\n",
       "      <td>2016-12-30 21:00:00</td>\n",
       "      <td>44.65</td>\n",
       "    </tr>\n",
       "    <tr>\n",
       "      <th>20155252</th>\n",
       "      <td>403</td>\n",
       "      <td>0</td>\n",
       "      <td>2016-12-30 22:00:00</td>\n",
       "      <td>44.53</td>\n",
       "    </tr>\n",
       "    <tr>\n",
       "      <th>20157615</th>\n",
       "      <td>403</td>\n",
       "      <td>0</td>\n",
       "      <td>2016-12-30 23:00:00</td>\n",
       "      <td>44.01</td>\n",
       "    </tr>\n",
       "    <tr>\n",
       "      <th>20159979</th>\n",
       "      <td>403</td>\n",
       "      <td>0</td>\n",
       "      <td>2016-12-31 00:00:00</td>\n",
       "      <td>43.86</td>\n",
       "    </tr>\n",
       "    <tr>\n",
       "      <th>20162343</th>\n",
       "      <td>403</td>\n",
       "      <td>0</td>\n",
       "      <td>2016-12-31 01:00:00</td>\n",
       "      <td>43.87</td>\n",
       "    </tr>\n",
       "    <tr>\n",
       "      <th>20164706</th>\n",
       "      <td>403</td>\n",
       "      <td>0</td>\n",
       "      <td>2016-12-31 02:00:00</td>\n",
       "      <td>43.84</td>\n",
       "    </tr>\n",
       "    <tr>\n",
       "      <th>20167070</th>\n",
       "      <td>403</td>\n",
       "      <td>0</td>\n",
       "      <td>2016-12-31 03:00:00</td>\n",
       "      <td>44.02</td>\n",
       "    </tr>\n",
       "    <tr>\n",
       "      <th>20169432</th>\n",
       "      <td>403</td>\n",
       "      <td>0</td>\n",
       "      <td>2016-12-31 04:00:00</td>\n",
       "      <td>44.33</td>\n",
       "    </tr>\n",
       "    <tr>\n",
       "      <th>20171793</th>\n",
       "      <td>403</td>\n",
       "      <td>0</td>\n",
       "      <td>2016-12-31 05:00:00</td>\n",
       "      <td>44.18</td>\n",
       "    </tr>\n",
       "    <tr>\n",
       "      <th>20174156</th>\n",
       "      <td>403</td>\n",
       "      <td>0</td>\n",
       "      <td>2016-12-31 06:00:00</td>\n",
       "      <td>44.22</td>\n",
       "    </tr>\n",
       "    <tr>\n",
       "      <th>20176518</th>\n",
       "      <td>403</td>\n",
       "      <td>0</td>\n",
       "      <td>2016-12-31 07:00:00</td>\n",
       "      <td>43.89</td>\n",
       "    </tr>\n",
       "    <tr>\n",
       "      <th>20178879</th>\n",
       "      <td>403</td>\n",
       "      <td>0</td>\n",
       "      <td>2016-12-31 08:00:00</td>\n",
       "      <td>43.88</td>\n",
       "    </tr>\n",
       "    <tr>\n",
       "      <th>20181239</th>\n",
       "      <td>403</td>\n",
       "      <td>0</td>\n",
       "      <td>2016-12-31 09:00:00</td>\n",
       "      <td>43.55</td>\n",
       "    </tr>\n",
       "    <tr>\n",
       "      <th>20183600</th>\n",
       "      <td>403</td>\n",
       "      <td>0</td>\n",
       "      <td>2016-12-31 10:00:00</td>\n",
       "      <td>43.63</td>\n",
       "    </tr>\n",
       "    <tr>\n",
       "      <th>20185960</th>\n",
       "      <td>403</td>\n",
       "      <td>0</td>\n",
       "      <td>2016-12-31 11:00:00</td>\n",
       "      <td>43.69</td>\n",
       "    </tr>\n",
       "    <tr>\n",
       "      <th>20188321</th>\n",
       "      <td>403</td>\n",
       "      <td>0</td>\n",
       "      <td>2016-12-31 12:00:00</td>\n",
       "      <td>43.30</td>\n",
       "    </tr>\n",
       "    <tr>\n",
       "      <th>20190682</th>\n",
       "      <td>403</td>\n",
       "      <td>0</td>\n",
       "      <td>2016-12-31 13:00:00</td>\n",
       "      <td>43.43</td>\n",
       "    </tr>\n",
       "    <tr>\n",
       "      <th>20193046</th>\n",
       "      <td>403</td>\n",
       "      <td>0</td>\n",
       "      <td>2016-12-31 14:00:00</td>\n",
       "      <td>43.52</td>\n",
       "    </tr>\n",
       "    <tr>\n",
       "      <th>20195410</th>\n",
       "      <td>403</td>\n",
       "      <td>0</td>\n",
       "      <td>2016-12-31 15:00:00</td>\n",
       "      <td>43.74</td>\n",
       "    </tr>\n",
       "    <tr>\n",
       "      <th>20197775</th>\n",
       "      <td>403</td>\n",
       "      <td>0</td>\n",
       "      <td>2016-12-31 16:00:00</td>\n",
       "      <td>43.49</td>\n",
       "    </tr>\n",
       "    <tr>\n",
       "      <th>20200139</th>\n",
       "      <td>403</td>\n",
       "      <td>0</td>\n",
       "      <td>2016-12-31 17:00:00</td>\n",
       "      <td>43.20</td>\n",
       "    </tr>\n",
       "    <tr>\n",
       "      <th>20202501</th>\n",
       "      <td>403</td>\n",
       "      <td>0</td>\n",
       "      <td>2016-12-31 18:00:00</td>\n",
       "      <td>43.60</td>\n",
       "    </tr>\n",
       "    <tr>\n",
       "      <th>20204864</th>\n",
       "      <td>403</td>\n",
       "      <td>0</td>\n",
       "      <td>2016-12-31 19:00:00</td>\n",
       "      <td>43.66</td>\n",
       "    </tr>\n",
       "    <tr>\n",
       "      <th>20207227</th>\n",
       "      <td>403</td>\n",
       "      <td>0</td>\n",
       "      <td>2016-12-31 20:00:00</td>\n",
       "      <td>43.64</td>\n",
       "    </tr>\n",
       "    <tr>\n",
       "      <th>20209593</th>\n",
       "      <td>403</td>\n",
       "      <td>0</td>\n",
       "      <td>2016-12-31 21:00:00</td>\n",
       "      <td>43.89</td>\n",
       "    </tr>\n",
       "    <tr>\n",
       "      <th>20211958</th>\n",
       "      <td>403</td>\n",
       "      <td>0</td>\n",
       "      <td>2016-12-31 22:00:00</td>\n",
       "      <td>44.37</td>\n",
       "    </tr>\n",
       "    <tr>\n",
       "      <th>20214324</th>\n",
       "      <td>403</td>\n",
       "      <td>0</td>\n",
       "      <td>2016-12-31 23:00:00</td>\n",
       "      <td>43.71</td>\n",
       "    </tr>\n",
       "  </tbody>\n",
       "</table>\n",
       "<p>479 rows × 4 columns</p>\n",
       "</div>"
      ],
      "text/plain": [
       "          building_id  meter            timestamp  meter_reading\n",
       "19085659          403      0  2016-12-12 01:00:00          44.35\n",
       "19088023          403      0  2016-12-12 02:00:00          45.45\n",
       "19090387          403      0  2016-12-12 03:00:00          44.82\n",
       "19092751          403      0  2016-12-12 04:00:00          45.11\n",
       "19095115          403      0  2016-12-12 05:00:00          44.73\n",
       "19097478          403      0  2016-12-12 06:00:00          46.40\n",
       "19099840          403      0  2016-12-12 07:00:00          53.90\n",
       "19102203          403      0  2016-12-12 08:00:00          64.69\n",
       "19104562          403      0  2016-12-12 09:00:00          77.52\n",
       "19106915          403      0  2016-12-12 10:00:00          79.23\n",
       "19109267          403      0  2016-12-12 11:00:00          77.24\n",
       "19111605          403      0  2016-12-12 12:00:00          76.78\n",
       "19113941          403      0  2016-12-12 13:00:00          76.63\n",
       "19116277          403      0  2016-12-12 14:00:00          75.16\n",
       "19118610          403      0  2016-12-12 15:00:00          72.72\n",
       "19120947          403      0  2016-12-12 16:00:00          64.04\n",
       "19123295          403      0  2016-12-12 17:00:00          57.48\n",
       "19125646          403      0  2016-12-12 18:00:00          49.24\n",
       "19128009          403      0  2016-12-12 19:00:00          46.98\n",
       "19130375          403      0  2016-12-12 20:00:00          48.15\n",
       "19132742          403      0  2016-12-12 21:00:00          47.51\n",
       "19135109          403      0  2016-12-12 22:00:00          46.82\n",
       "19137476          403      0  2016-12-12 23:00:00          47.07\n",
       "19139842          403      0  2016-12-13 00:00:00          47.25\n",
       "19142207          403      0  2016-12-13 01:00:00          46.78\n",
       "19144573          403      0  2016-12-13 02:00:00          46.74\n",
       "19146938          403      0  2016-12-13 03:00:00          46.90\n",
       "19149304          403      0  2016-12-13 04:00:00          47.28\n",
       "19151672          403      0  2016-12-13 05:00:00          46.50\n",
       "19154037          403      0  2016-12-13 06:00:00          47.94\n",
       "...               ...    ...                  ...            ...\n",
       "20145804          403      0  2016-12-30 18:00:00          43.64\n",
       "20148165          403      0  2016-12-30 19:00:00          43.87\n",
       "20150526          403      0  2016-12-30 20:00:00          44.32\n",
       "20152889          403      0  2016-12-30 21:00:00          44.65\n",
       "20155252          403      0  2016-12-30 22:00:00          44.53\n",
       "20157615          403      0  2016-12-30 23:00:00          44.01\n",
       "20159979          403      0  2016-12-31 00:00:00          43.86\n",
       "20162343          403      0  2016-12-31 01:00:00          43.87\n",
       "20164706          403      0  2016-12-31 02:00:00          43.84\n",
       "20167070          403      0  2016-12-31 03:00:00          44.02\n",
       "20169432          403      0  2016-12-31 04:00:00          44.33\n",
       "20171793          403      0  2016-12-31 05:00:00          44.18\n",
       "20174156          403      0  2016-12-31 06:00:00          44.22\n",
       "20176518          403      0  2016-12-31 07:00:00          43.89\n",
       "20178879          403      0  2016-12-31 08:00:00          43.88\n",
       "20181239          403      0  2016-12-31 09:00:00          43.55\n",
       "20183600          403      0  2016-12-31 10:00:00          43.63\n",
       "20185960          403      0  2016-12-31 11:00:00          43.69\n",
       "20188321          403      0  2016-12-31 12:00:00          43.30\n",
       "20190682          403      0  2016-12-31 13:00:00          43.43\n",
       "20193046          403      0  2016-12-31 14:00:00          43.52\n",
       "20195410          403      0  2016-12-31 15:00:00          43.74\n",
       "20197775          403      0  2016-12-31 16:00:00          43.49\n",
       "20200139          403      0  2016-12-31 17:00:00          43.20\n",
       "20202501          403      0  2016-12-31 18:00:00          43.60\n",
       "20204864          403      0  2016-12-31 19:00:00          43.66\n",
       "20207227          403      0  2016-12-31 20:00:00          43.64\n",
       "20209593          403      0  2016-12-31 21:00:00          43.89\n",
       "20211958          403      0  2016-12-31 22:00:00          44.37\n",
       "20214324          403      0  2016-12-31 23:00:00          43.71\n",
       "\n",
       "[479 rows x 4 columns]"
      ]
     },
     "metadata": {},
     "output_type": "display_data"
    },
    {
     "data": {
      "text/html": [
       "<div>\n",
       "<style scoped>\n",
       "    .dataframe tbody tr th:only-of-type {\n",
       "        vertical-align: middle;\n",
       "    }\n",
       "\n",
       "    .dataframe tbody tr th {\n",
       "        vertical-align: top;\n",
       "    }\n",
       "\n",
       "    .dataframe thead th {\n",
       "        text-align: right;\n",
       "    }\n",
       "</style>\n",
       "<table border=\"1\" class=\"dataframe\">\n",
       "  <thead>\n",
       "    <tr style=\"text-align: right;\">\n",
       "      <th></th>\n",
       "      <th>building_id</th>\n",
       "      <th>meter</th>\n",
       "      <th>timestamp</th>\n",
       "      <th>meter_reading</th>\n",
       "    </tr>\n",
       "  </thead>\n",
       "  <tbody>\n",
       "    <tr>\n",
       "      <th>1856</th>\n",
       "      <td>1249</td>\n",
       "      <td>0</td>\n",
       "      <td>2016-01-01 00:00:00</td>\n",
       "      <td>299.000</td>\n",
       "    </tr>\n",
       "    <tr>\n",
       "      <th>1857</th>\n",
       "      <td>1249</td>\n",
       "      <td>1</td>\n",
       "      <td>2016-01-01 00:00:00</td>\n",
       "      <td>695.555</td>\n",
       "    </tr>\n",
       "    <tr>\n",
       "      <th>1858</th>\n",
       "      <td>1249</td>\n",
       "      <td>2</td>\n",
       "      <td>2016-01-01 00:00:00</td>\n",
       "      <td>899.640</td>\n",
       "    </tr>\n",
       "    <tr>\n",
       "      <th>1859</th>\n",
       "      <td>1249</td>\n",
       "      <td>3</td>\n",
       "      <td>2016-01-01 00:00:00</td>\n",
       "      <td>840.861</td>\n",
       "    </tr>\n",
       "    <tr>\n",
       "      <th>4152</th>\n",
       "      <td>1249</td>\n",
       "      <td>0</td>\n",
       "      <td>2016-01-01 01:00:00</td>\n",
       "      <td>298.000</td>\n",
       "    </tr>\n",
       "    <tr>\n",
       "      <th>4153</th>\n",
       "      <td>1249</td>\n",
       "      <td>1</td>\n",
       "      <td>2016-01-01 01:00:00</td>\n",
       "      <td>830.408</td>\n",
       "    </tr>\n",
       "    <tr>\n",
       "      <th>4154</th>\n",
       "      <td>1249</td>\n",
       "      <td>2</td>\n",
       "      <td>2016-01-01 01:00:00</td>\n",
       "      <td>1019.590</td>\n",
       "    </tr>\n",
       "    <tr>\n",
       "      <th>4155</th>\n",
       "      <td>1249</td>\n",
       "      <td>3</td>\n",
       "      <td>2016-01-01 01:00:00</td>\n",
       "      <td>942.818</td>\n",
       "    </tr>\n",
       "    <tr>\n",
       "      <th>6448</th>\n",
       "      <td>1249</td>\n",
       "      <td>0</td>\n",
       "      <td>2016-01-01 02:00:00</td>\n",
       "      <td>299.000</td>\n",
       "    </tr>\n",
       "    <tr>\n",
       "      <th>6449</th>\n",
       "      <td>1249</td>\n",
       "      <td>1</td>\n",
       "      <td>2016-01-01 02:00:00</td>\n",
       "      <td>646.394</td>\n",
       "    </tr>\n",
       "    <tr>\n",
       "      <th>6450</th>\n",
       "      <td>1249</td>\n",
       "      <td>2</td>\n",
       "      <td>2016-01-01 02:00:00</td>\n",
       "      <td>1319.470</td>\n",
       "    </tr>\n",
       "    <tr>\n",
       "      <th>6451</th>\n",
       "      <td>1249</td>\n",
       "      <td>3</td>\n",
       "      <td>2016-01-01 02:00:00</td>\n",
       "      <td>833.966</td>\n",
       "    </tr>\n",
       "    <tr>\n",
       "      <th>8747</th>\n",
       "      <td>1249</td>\n",
       "      <td>0</td>\n",
       "      <td>2016-01-01 03:00:00</td>\n",
       "      <td>293.000</td>\n",
       "    </tr>\n",
       "    <tr>\n",
       "      <th>8748</th>\n",
       "      <td>1249</td>\n",
       "      <td>1</td>\n",
       "      <td>2016-01-01 03:00:00</td>\n",
       "      <td>662.382</td>\n",
       "    </tr>\n",
       "    <tr>\n",
       "      <th>8749</th>\n",
       "      <td>1249</td>\n",
       "      <td>2</td>\n",
       "      <td>2016-01-01 03:00:00</td>\n",
       "      <td>899.640</td>\n",
       "    </tr>\n",
       "    <tr>\n",
       "      <th>8750</th>\n",
       "      <td>1249</td>\n",
       "      <td>3</td>\n",
       "      <td>2016-01-01 03:00:00</td>\n",
       "      <td>941.321</td>\n",
       "    </tr>\n",
       "    <tr>\n",
       "      <th>11042</th>\n",
       "      <td>1249</td>\n",
       "      <td>0</td>\n",
       "      <td>2016-01-01 04:00:00</td>\n",
       "      <td>310.000</td>\n",
       "    </tr>\n",
       "    <tr>\n",
       "      <th>11043</th>\n",
       "      <td>1249</td>\n",
       "      <td>1</td>\n",
       "      <td>2016-01-01 04:00:00</td>\n",
       "      <td>672.578</td>\n",
       "    </tr>\n",
       "    <tr>\n",
       "      <th>11044</th>\n",
       "      <td>1249</td>\n",
       "      <td>2</td>\n",
       "      <td>2016-01-01 04:00:00</td>\n",
       "      <td>899.640</td>\n",
       "    </tr>\n",
       "    <tr>\n",
       "      <th>11045</th>\n",
       "      <td>1249</td>\n",
       "      <td>3</td>\n",
       "      <td>2016-01-01 04:00:00</td>\n",
       "      <td>1008.240</td>\n",
       "    </tr>\n",
       "    <tr>\n",
       "      <th>13337</th>\n",
       "      <td>1249</td>\n",
       "      <td>0</td>\n",
       "      <td>2016-01-01 05:00:00</td>\n",
       "      <td>284.000</td>\n",
       "    </tr>\n",
       "    <tr>\n",
       "      <th>13338</th>\n",
       "      <td>1249</td>\n",
       "      <td>1</td>\n",
       "      <td>2016-01-01 05:00:00</td>\n",
       "      <td>576.014</td>\n",
       "    </tr>\n",
       "    <tr>\n",
       "      <th>13339</th>\n",
       "      <td>1249</td>\n",
       "      <td>2</td>\n",
       "      <td>2016-01-01 05:00:00</td>\n",
       "      <td>1259.500</td>\n",
       "    </tr>\n",
       "    <tr>\n",
       "      <th>13340</th>\n",
       "      <td>1249</td>\n",
       "      <td>3</td>\n",
       "      <td>2016-01-01 05:00:00</td>\n",
       "      <td>896.744</td>\n",
       "    </tr>\n",
       "    <tr>\n",
       "      <th>15631</th>\n",
       "      <td>1249</td>\n",
       "      <td>0</td>\n",
       "      <td>2016-01-01 06:00:00</td>\n",
       "      <td>298.000</td>\n",
       "    </tr>\n",
       "    <tr>\n",
       "      <th>15632</th>\n",
       "      <td>1249</td>\n",
       "      <td>1</td>\n",
       "      <td>2016-01-01 06:00:00</td>\n",
       "      <td>620.534</td>\n",
       "    </tr>\n",
       "    <tr>\n",
       "      <th>15633</th>\n",
       "      <td>1249</td>\n",
       "      <td>2</td>\n",
       "      <td>2016-01-01 06:00:00</td>\n",
       "      <td>1139.540</td>\n",
       "    </tr>\n",
       "    <tr>\n",
       "      <th>15634</th>\n",
       "      <td>1249</td>\n",
       "      <td>3</td>\n",
       "      <td>2016-01-01 06:00:00</td>\n",
       "      <td>1073.080</td>\n",
       "    </tr>\n",
       "    <tr>\n",
       "      <th>17923</th>\n",
       "      <td>1249</td>\n",
       "      <td>0</td>\n",
       "      <td>2016-01-01 07:00:00</td>\n",
       "      <td>283.000</td>\n",
       "    </tr>\n",
       "    <tr>\n",
       "      <th>17924</th>\n",
       "      <td>1249</td>\n",
       "      <td>1</td>\n",
       "      <td>2016-01-01 07:00:00</td>\n",
       "      <td>591.759</td>\n",
       "    </tr>\n",
       "    <tr>\n",
       "      <th>...</th>\n",
       "      <td>...</td>\n",
       "      <td>...</td>\n",
       "      <td>...</td>\n",
       "      <td>...</td>\n",
       "    </tr>\n",
       "    <tr>\n",
       "      <th>20199095</th>\n",
       "      <td>1249</td>\n",
       "      <td>2</td>\n",
       "      <td>2016-12-31 16:00:00</td>\n",
       "      <td>2136.940</td>\n",
       "    </tr>\n",
       "    <tr>\n",
       "      <th>20199096</th>\n",
       "      <td>1249</td>\n",
       "      <td>3</td>\n",
       "      <td>2016-12-31 16:00:00</td>\n",
       "      <td>975.364</td>\n",
       "    </tr>\n",
       "    <tr>\n",
       "      <th>20201458</th>\n",
       "      <td>1249</td>\n",
       "      <td>0</td>\n",
       "      <td>2016-12-31 17:00:00</td>\n",
       "      <td>335.000</td>\n",
       "    </tr>\n",
       "    <tr>\n",
       "      <th>20201459</th>\n",
       "      <td>1249</td>\n",
       "      <td>1</td>\n",
       "      <td>2016-12-31 17:00:00</td>\n",
       "      <td>1028.920</td>\n",
       "    </tr>\n",
       "    <tr>\n",
       "      <th>20201460</th>\n",
       "      <td>1249</td>\n",
       "      <td>2</td>\n",
       "      <td>2016-12-31 17:00:00</td>\n",
       "      <td>1817.130</td>\n",
       "    </tr>\n",
       "    <tr>\n",
       "      <th>20201461</th>\n",
       "      <td>1249</td>\n",
       "      <td>3</td>\n",
       "      <td>2016-12-31 17:00:00</td>\n",
       "      <td>983.124</td>\n",
       "    </tr>\n",
       "    <tr>\n",
       "      <th>20203821</th>\n",
       "      <td>1249</td>\n",
       "      <td>0</td>\n",
       "      <td>2016-12-31 18:00:00</td>\n",
       "      <td>351.000</td>\n",
       "    </tr>\n",
       "    <tr>\n",
       "      <th>20203822</th>\n",
       "      <td>1249</td>\n",
       "      <td>1</td>\n",
       "      <td>2016-12-31 18:00:00</td>\n",
       "      <td>739.991</td>\n",
       "    </tr>\n",
       "    <tr>\n",
       "      <th>20203823</th>\n",
       "      <td>1249</td>\n",
       "      <td>2</td>\n",
       "      <td>2016-12-31 18:00:00</td>\n",
       "      <td>1558.010</td>\n",
       "    </tr>\n",
       "    <tr>\n",
       "      <th>20203824</th>\n",
       "      <td>1249</td>\n",
       "      <td>3</td>\n",
       "      <td>2016-12-31 18:00:00</td>\n",
       "      <td>964.384</td>\n",
       "    </tr>\n",
       "    <tr>\n",
       "      <th>20206184</th>\n",
       "      <td>1249</td>\n",
       "      <td>0</td>\n",
       "      <td>2016-12-31 19:00:00</td>\n",
       "      <td>324.000</td>\n",
       "    </tr>\n",
       "    <tr>\n",
       "      <th>20206185</th>\n",
       "      <td>1249</td>\n",
       "      <td>1</td>\n",
       "      <td>2016-12-31 19:00:00</td>\n",
       "      <td>743.702</td>\n",
       "    </tr>\n",
       "    <tr>\n",
       "      <th>20206186</th>\n",
       "      <td>1249</td>\n",
       "      <td>2</td>\n",
       "      <td>2016-12-31 19:00:00</td>\n",
       "      <td>841.330</td>\n",
       "    </tr>\n",
       "    <tr>\n",
       "      <th>20206187</th>\n",
       "      <td>1249</td>\n",
       "      <td>3</td>\n",
       "      <td>2016-12-31 19:00:00</td>\n",
       "      <td>994.194</td>\n",
       "    </tr>\n",
       "    <tr>\n",
       "      <th>20208547</th>\n",
       "      <td>1249</td>\n",
       "      <td>0</td>\n",
       "      <td>2016-12-31 20:00:00</td>\n",
       "      <td>374.000</td>\n",
       "    </tr>\n",
       "    <tr>\n",
       "      <th>20208548</th>\n",
       "      <td>1249</td>\n",
       "      <td>1</td>\n",
       "      <td>2016-12-31 20:00:00</td>\n",
       "      <td>663.586</td>\n",
       "    </tr>\n",
       "    <tr>\n",
       "      <th>20208549</th>\n",
       "      <td>1249</td>\n",
       "      <td>2</td>\n",
       "      <td>2016-12-31 20:00:00</td>\n",
       "      <td>1344.700</td>\n",
       "    </tr>\n",
       "    <tr>\n",
       "      <th>20208550</th>\n",
       "      <td>1249</td>\n",
       "      <td>3</td>\n",
       "      <td>2016-12-31 20:00:00</td>\n",
       "      <td>924.287</td>\n",
       "    </tr>\n",
       "    <tr>\n",
       "      <th>20210912</th>\n",
       "      <td>1249</td>\n",
       "      <td>0</td>\n",
       "      <td>2016-12-31 21:00:00</td>\n",
       "      <td>348.000</td>\n",
       "    </tr>\n",
       "    <tr>\n",
       "      <th>20210913</th>\n",
       "      <td>1249</td>\n",
       "      <td>1</td>\n",
       "      <td>2016-12-31 21:00:00</td>\n",
       "      <td>843.705</td>\n",
       "    </tr>\n",
       "    <tr>\n",
       "      <th>20210914</th>\n",
       "      <td>1249</td>\n",
       "      <td>2</td>\n",
       "      <td>2016-12-31 21:00:00</td>\n",
       "      <td>938.910</td>\n",
       "    </tr>\n",
       "    <tr>\n",
       "      <th>20210915</th>\n",
       "      <td>1249</td>\n",
       "      <td>3</td>\n",
       "      <td>2016-12-31 21:00:00</td>\n",
       "      <td>849.272</td>\n",
       "    </tr>\n",
       "    <tr>\n",
       "      <th>20213279</th>\n",
       "      <td>1249</td>\n",
       "      <td>0</td>\n",
       "      <td>2016-12-31 22:00:00</td>\n",
       "      <td>338.000</td>\n",
       "    </tr>\n",
       "    <tr>\n",
       "      <th>20213280</th>\n",
       "      <td>1249</td>\n",
       "      <td>1</td>\n",
       "      <td>2016-12-31 22:00:00</td>\n",
       "      <td>653.339</td>\n",
       "    </tr>\n",
       "    <tr>\n",
       "      <th>20213281</th>\n",
       "      <td>1249</td>\n",
       "      <td>2</td>\n",
       "      <td>2016-12-31 22:00:00</td>\n",
       "      <td>1867.110</td>\n",
       "    </tr>\n",
       "    <tr>\n",
       "      <th>20213282</th>\n",
       "      <td>1249</td>\n",
       "      <td>3</td>\n",
       "      <td>2016-12-31 22:00:00</td>\n",
       "      <td>997.560</td>\n",
       "    </tr>\n",
       "    <tr>\n",
       "      <th>20215644</th>\n",
       "      <td>1249</td>\n",
       "      <td>0</td>\n",
       "      <td>2016-12-31 23:00:00</td>\n",
       "      <td>370.000</td>\n",
       "    </tr>\n",
       "    <tr>\n",
       "      <th>20215645</th>\n",
       "      <td>1249</td>\n",
       "      <td>1</td>\n",
       "      <td>2016-12-31 23:00:00</td>\n",
       "      <td>653.013</td>\n",
       "    </tr>\n",
       "    <tr>\n",
       "      <th>20215646</th>\n",
       "      <td>1249</td>\n",
       "      <td>2</td>\n",
       "      <td>2016-12-31 23:00:00</td>\n",
       "      <td>1065.640</td>\n",
       "    </tr>\n",
       "    <tr>\n",
       "      <th>20215647</th>\n",
       "      <td>1249</td>\n",
       "      <td>3</td>\n",
       "      <td>2016-12-31 23:00:00</td>\n",
       "      <td>987.300</td>\n",
       "    </tr>\n",
       "  </tbody>\n",
       "</table>\n",
       "<p>35136 rows × 4 columns</p>\n",
       "</div>"
      ],
      "text/plain": [
       "          building_id  meter            timestamp  meter_reading\n",
       "1856             1249      0  2016-01-01 00:00:00        299.000\n",
       "1857             1249      1  2016-01-01 00:00:00        695.555\n",
       "1858             1249      2  2016-01-01 00:00:00        899.640\n",
       "1859             1249      3  2016-01-01 00:00:00        840.861\n",
       "4152             1249      0  2016-01-01 01:00:00        298.000\n",
       "4153             1249      1  2016-01-01 01:00:00        830.408\n",
       "4154             1249      2  2016-01-01 01:00:00       1019.590\n",
       "4155             1249      3  2016-01-01 01:00:00        942.818\n",
       "6448             1249      0  2016-01-01 02:00:00        299.000\n",
       "6449             1249      1  2016-01-01 02:00:00        646.394\n",
       "6450             1249      2  2016-01-01 02:00:00       1319.470\n",
       "6451             1249      3  2016-01-01 02:00:00        833.966\n",
       "8747             1249      0  2016-01-01 03:00:00        293.000\n",
       "8748             1249      1  2016-01-01 03:00:00        662.382\n",
       "8749             1249      2  2016-01-01 03:00:00        899.640\n",
       "8750             1249      3  2016-01-01 03:00:00        941.321\n",
       "11042            1249      0  2016-01-01 04:00:00        310.000\n",
       "11043            1249      1  2016-01-01 04:00:00        672.578\n",
       "11044            1249      2  2016-01-01 04:00:00        899.640\n",
       "11045            1249      3  2016-01-01 04:00:00       1008.240\n",
       "13337            1249      0  2016-01-01 05:00:00        284.000\n",
       "13338            1249      1  2016-01-01 05:00:00        576.014\n",
       "13339            1249      2  2016-01-01 05:00:00       1259.500\n",
       "13340            1249      3  2016-01-01 05:00:00        896.744\n",
       "15631            1249      0  2016-01-01 06:00:00        298.000\n",
       "15632            1249      1  2016-01-01 06:00:00        620.534\n",
       "15633            1249      2  2016-01-01 06:00:00       1139.540\n",
       "15634            1249      3  2016-01-01 06:00:00       1073.080\n",
       "17923            1249      0  2016-01-01 07:00:00        283.000\n",
       "17924            1249      1  2016-01-01 07:00:00        591.759\n",
       "...               ...    ...                  ...            ...\n",
       "20199095         1249      2  2016-12-31 16:00:00       2136.940\n",
       "20199096         1249      3  2016-12-31 16:00:00        975.364\n",
       "20201458         1249      0  2016-12-31 17:00:00        335.000\n",
       "20201459         1249      1  2016-12-31 17:00:00       1028.920\n",
       "20201460         1249      2  2016-12-31 17:00:00       1817.130\n",
       "20201461         1249      3  2016-12-31 17:00:00        983.124\n",
       "20203821         1249      0  2016-12-31 18:00:00        351.000\n",
       "20203822         1249      1  2016-12-31 18:00:00        739.991\n",
       "20203823         1249      2  2016-12-31 18:00:00       1558.010\n",
       "20203824         1249      3  2016-12-31 18:00:00        964.384\n",
       "20206184         1249      0  2016-12-31 19:00:00        324.000\n",
       "20206185         1249      1  2016-12-31 19:00:00        743.702\n",
       "20206186         1249      2  2016-12-31 19:00:00        841.330\n",
       "20206187         1249      3  2016-12-31 19:00:00        994.194\n",
       "20208547         1249      0  2016-12-31 20:00:00        374.000\n",
       "20208548         1249      1  2016-12-31 20:00:00        663.586\n",
       "20208549         1249      2  2016-12-31 20:00:00       1344.700\n",
       "20208550         1249      3  2016-12-31 20:00:00        924.287\n",
       "20210912         1249      0  2016-12-31 21:00:00        348.000\n",
       "20210913         1249      1  2016-12-31 21:00:00        843.705\n",
       "20210914         1249      2  2016-12-31 21:00:00        938.910\n",
       "20210915         1249      3  2016-12-31 21:00:00        849.272\n",
       "20213279         1249      0  2016-12-31 22:00:00        338.000\n",
       "20213280         1249      1  2016-12-31 22:00:00        653.339\n",
       "20213281         1249      2  2016-12-31 22:00:00       1867.110\n",
       "20213282         1249      3  2016-12-31 22:00:00        997.560\n",
       "20215644         1249      0  2016-12-31 23:00:00        370.000\n",
       "20215645         1249      1  2016-12-31 23:00:00        653.013\n",
       "20215646         1249      2  2016-12-31 23:00:00       1065.640\n",
       "20215647         1249      3  2016-12-31 23:00:00        987.300\n",
       "\n",
       "[35136 rows x 4 columns]"
      ]
     },
     "metadata": {},
     "output_type": "display_data"
    }
   ],
   "source": [
    "bid = np.argmin(train_samples_per_building)\n",
    "display(train_df[train_df['building_id']==bid])\n",
    "bid = np.argmax(train_samples_per_building) # 366*24*4\n",
    "display(train_df[train_df['building_id']==bid])"
   ]
  },
  {
   "cell_type": "markdown",
   "metadata": {},
   "source": [
    "### Evolución por fecha"
   ]
  },
  {
   "cell_type": "code",
   "execution_count": 37,
   "metadata": {},
   "outputs": [
    {
     "data": {
      "text/plain": [
       "<matplotlib.axes._subplots.AxesSubplot at 0x7f9c37519e80>"
      ]
     },
     "execution_count": 37,
     "metadata": {},
     "output_type": "execute_result"
    },
    {
     "data": {
      "image/png": "[encoded data removed]",
      "text/plain": [
       "<Figure size 1296x360 with 1 Axes>"
      ]
     },
     "metadata": {
      "needs_background": "light"
     },
     "output_type": "display_data"
    }
   ],
   "source": [
    "plt.figure(figsize = (18,5))\n",
    "train_df_f['meter_reading'].plot()"
   ]
  },
  {
   "cell_type": "code",
   "execution_count": 76,
   "metadata": {},
   "outputs": [
    {
     "data": {
      "text/plain": [
       "<matplotlib.axes._subplots.AxesSubplot at 0x7f9bec5c8a58>"
      ]
     },
     "execution_count": 76,
     "metadata": {},
     "output_type": "execute_result"
    },
    {
     "data": {
      "image/png": "[encoded data removed]",
      "text/plain": [
       "<Figure size 1296x360 with 1 Axes>"
      ]
     },
     "metadata": {
      "needs_background": "light"
     },
     "output_type": "display_data"
    }
   ],
   "source": [
    "plt.figure(figsize = (18,5))\n",
    "np.log1p(train_df_f['meter_reading']).plot()"
   ]
  },
  {
   "cell_type": "code",
   "execution_count": null,
   "metadata": {},
   "outputs": [],
   "source": [
    "train"
   ]
  },
  {
   "cell_type": "code",
   "execution_count": null,
   "metadata": {},
   "outputs": [],
   "source": [
    "del weather_train"
   ]
  },
  {
   "cell_type": "code",
   "execution_count": null,
   "metadata": {},
   "outputs": [],
   "source": [
    "train[\"timestamp\"] = pd.to_datetime(train[\"timestamp\"])\n",
    "train[\"hour\"] = train[\"timestamp\"].dt.hour\n",
    "train[\"day\"] = train[\"timestamp\"].dt.day\n",
    "train[\"weekend\"] = train[\"timestamp\"].dt.weekday\n",
    "train[\"month\"] = train[\"timestamp\"].dt.month"
   ]
  },
  {
   "cell_type": "code",
   "execution_count": null,
   "metadata": {},
   "outputs": [],
   "source": [
    "train.drop('timestamp', axis=1, inplace=True)"
   ]
  },
  {
   "cell_type": "markdown",
   "metadata": {},
   "source": [
    "## Making the DataBunch"
   ]
  },
  {
   "cell_type": "markdown",
   "metadata": {},
   "source": [
    "Next, just like in fastai v1 we need to declare a few things. Specifically our Categorical and Continuous variables, our preprocessors (Normalization, Categorification, and FillMissing), along with how we want to split our data. `fastai` v2 now includes a `RandomSplitter` which is similar to `.split_by_rand_pct()` but now we can specify a custom range for our data (hence `range_of(train)`)"
   ]
  },
  {
   "cell_type": "code",
   "execution_count": null,
   "metadata": {},
   "outputs": [],
   "source": [
    "cat_vars = [\"building_id\", \"primary_use\", \"hour\", \"day\", \"weekend\", \"month\", \"meter\"]\n",
    "cont_vars = [\"square_feet\", \"year_built\", \"air_temperature\", \"cloud_coverage\",\n",
    "              \"dew_temperature\"]\n",
    "dep_var = 'meter_reading'"
   ]
  },
  {
   "cell_type": "code",
   "execution_count": null,
   "metadata": {
    "_kg_hide-output": false
   },
   "outputs": [],
   "source": [
    "procs = [Normalize, Categorify, FillMissing, Cuda]\n",
    "splits = RandomSplitter()(range_of(train))"
   ]
  },
  {
   "cell_type": "markdown",
   "metadata": {},
   "source": [
    "Now that those are defined, we can create a `TabularPandas` object by passing in our dataframe, the `procs`, our variables, what our `y` is, and how we want to split our data. `fastai` v2 is built on a Pipeline structure where first we dictate what we want to do, then we call the databunch (the high-level API is not done yet so we have nothing similar to directly DataBunching an object)"
   ]
  },
  {
   "cell_type": "code",
   "execution_count": null,
   "metadata": {},
   "outputs": [],
   "source": [
    "to = TabularPandas(train, procs, cat_vars, cont_vars, y_names=dep_var, splits=splits, is_y_cat=False)"
   ]
  },
  {
   "cell_type": "markdown",
   "metadata": {},
   "source": [
    "If we look at what `to` actually is, we can see what looks to be a bunch of batches of our data aligned into a dataframe that can easily be read!"
   ]
  },
  {
   "cell_type": "code",
   "execution_count": null,
   "metadata": {},
   "outputs": [],
   "source": [
    "to"
   ]
  },
  {
   "cell_type": "markdown",
   "metadata": {},
   "source": [
    "We can then also easily look at our training and validation datasets by calling `.train` or `.valid`"
   ]
  },
  {
   "cell_type": "code",
   "execution_count": null,
   "metadata": {},
   "outputs": [],
   "source": [
    "to.train"
   ]
  },
  {
   "cell_type": "markdown",
   "metadata": {},
   "source": [
    "From here we can create our DataBunch object one of two ways. We can either directly do a `dbch = to.databunch()`, *or* we can take it one step further and apply custom works to some dataloaders. First let's look at the basic version"
   ]
  },
  {
   "cell_type": "code",
   "execution_count": null,
   "metadata": {},
   "outputs": [],
   "source": [
    "dbch = to.databunch()\n",
    "dbch.valid_dl.show_batch()"
   ]
  },
  {
   "cell_type": "code",
   "execution_count": null,
   "metadata": {},
   "outputs": [],
   "source": [
    "is_categorical_dtype(to.meter_reading)"
   ]
  },
  {
   "cell_type": "code",
   "execution_count": null,
   "metadata": {},
   "outputs": [],
   "source": [
    "next(iter(dbch.train_dl))"
   ]
  },
  {
   "cell_type": "markdown",
   "metadata": {},
   "source": [
    "Now let's try doing this the second method. We can increase our batch size since the validation set is much smaller than our training dataset. We can also specify a few options with our training dataset too. To do this, we will need to create `TabDataLoaders` to, well, load the data!\n",
    "\n",
    "We pass in a dataset, a batch size, our `num_workers`, along with if we want to shuffle our dataset and drop the last batch if it does not evenly split. You should always want to do this with the **training** dataset but not the validation. Defaultly they are both set to `False`"
   ]
  },
  {
   "cell_type": "code",
   "execution_count": null,
   "metadata": {},
   "outputs": [],
   "source": [
    "trn_dl = TabDataLoader(to.train, bs=64, shuffle=True, drop_last=True)\n",
    "val_dl = TabDataLoader(to.valid, bs=128)"
   ]
  },
  {
   "cell_type": "markdown",
   "metadata": {},
   "source": [
    "Lastly we can create a `DataBunch` object by calling `DataBunch()` and passing in our two `DataLoaders`"
   ]
  },
  {
   "cell_type": "code",
   "execution_count": null,
   "metadata": {},
   "outputs": [],
   "source": [
    "dbunch = DataBunch(trn_dl, val_dl)\n",
    "dbunch.valid_dl.show_batch()"
   ]
  },
  {
   "cell_type": "code",
   "execution_count": null,
   "metadata": {},
   "outputs": [],
   "source": []
  },
  {
   "cell_type": "markdown",
   "metadata": {},
   "source": [
    "As you can see there are a *lot* of ways we can customize our DataBunch's now"
   ]
  },
  {
   "cell_type": "markdown",
   "metadata": {},
   "source": [
    "## Training the Model"
   ]
  },
  {
   "cell_type": "markdown",
   "metadata": {},
   "source": [
    "First we need to create a `TabularModel` that needs an embedding matrix size, how many continuous variables to expect, the number of possible outputs (classes), and how big we want our layers. To pass in the embedding matrix sizes, we can use `get_emb_sz` onto a `TabularPandas` object"
   ]
  },
  {
   "cell_type": "markdown",
   "metadata": {},
   "source": [
    "First let's define our embedding size rule of thumb, along with our `get_emb_sz` function"
   ]
  },
  {
   "cell_type": "code",
   "execution_count": null,
   "metadata": {},
   "outputs": [],
   "source": [
    "def emb_sz_rule(n_cat): \n",
    "    \"Rule of thumb to pick embedding size corresponding to `n_cat`\"\n",
    "    return min(600, round(1.6 * n_cat**0.56))"
   ]
  },
  {
   "cell_type": "code",
   "execution_count": null,
   "metadata": {},
   "outputs": [],
   "source": [
    "def _one_emb_sz(classes, n, sz_dict=None):\n",
    "    \"Pick an embedding size for `n` depending on `classes` if not given in `sz_dict`.\"\n",
    "    sz_dict = ifnone(sz_dict, {})\n",
    "    n_cat = len(classes[n])\n",
    "    sz = sz_dict.get(n, int(emb_sz_rule(n_cat)))  # rule of thumb\n",
    "    return n_cat,sz"
   ]
  },
  {
   "cell_type": "code",
   "execution_count": null,
   "metadata": {},
   "outputs": [],
   "source": [
    "def get_emb_sz(to, sz_dict=None):\n",
    "    \"Get default embedding size from `TabularPreprocessor` `proc` or the ones in `sz_dict`\"\n",
    "    return [_one_emb_sz(to.procs.classes, n, sz_dict) for n in to.cat_names]"
   ]
  },
  {
   "cell_type": "markdown",
   "metadata": {},
   "source": [
    "Now we pass in our `TabularPandas` object, `to`"
   ]
  },
  {
   "cell_type": "code",
   "execution_count": null,
   "metadata": {},
   "outputs": [],
   "source": [
    "emb_szs = get_emb_sz(to); print(emb_szs)"
   ]
  },
  {
   "cell_type": "markdown",
   "metadata": {},
   "source": [
    "The last piece of the puzzle we need is our basic `TabularModel`"
   ]
  },
  {
   "cell_type": "code",
   "execution_count": null,
   "metadata": {},
   "outputs": [],
   "source": [
    "class TabularModel(Module):\n",
    "    \"Basic model for tabular data.\"\n",
    "    def __init__(self, emb_szs, n_cont, out_sz, layers, ps=None, embed_p=0., y_range=None, use_bn=True, bn_final=False):\n",
    "        ps = ifnone(ps, [0]*len(layers))\n",
    "        if not is_listy(ps): ps = [ps]*len(layers)\n",
    "        self.embeds = nn.ModuleList([Embedding(ni, nf) for ni,nf in emb_szs])\n",
    "        self.emb_drop = nn.Dropout(embed_p)\n",
    "        self.bn_cont = nn.BatchNorm1d(n_cont)\n",
    "        n_emb = sum(e.embedding_dim for e in self.embeds)\n",
    "        self.n_emb,self.n_cont,self.y_range = n_emb,n_cont,y_range\n",
    "        sizes = [n_emb + n_cont] + layers + [out_sz]\n",
    "        actns = [nn.ReLU(inplace=True) for _ in range(len(sizes)-2)] + [None]\n",
    "        _layers = [BnDropLin(sizes[i], sizes[i+1], bn=use_bn and i!=0, p=p, act=a)\n",
    "                       for i,(p,a) in enumerate(zip([0.]+ps,actns))]\n",
    "        if bn_final: _layers.append(nn.BatchNorm1d(sizes[-1]))\n",
    "        self.layers = nn.Sequential(*_layers)\n",
    "    \n",
    "    def forward(self, x_cat, x_cont):\n",
    "        if self.n_emb != 0:\n",
    "            x = [e(x_cat[:,i]) for i,e in enumerate(self.embeds)]\n",
    "            x = torch.cat(x, 1)\n",
    "            x = self.emb_drop(x)\n",
    "        if self.n_cont != 0:\n",
    "            x_cont = self.bn_cont(x_cont)\n",
    "            x = torch.cat([x, x_cont], 1) if self.n_emb != 0 else x_cont\n",
    "        x = self.layers(x)\n",
    "        if self.y_range is not None:\n",
    "            x = (self.y_range[1]-self.y_range[0]) * torch.sigmoid(x) + self.y_range[0]\n",
    "        return x"
   ]
  },
  {
   "cell_type": "markdown",
   "metadata": {},
   "source": [
    "If you noticed, most of what changed with the v2 API is focused on the dataloading / DataBunch creation. The rest of this Kernel sould look very familiar to fastai users"
   ]
  },
  {
   "cell_type": "code",
   "execution_count": null,
   "metadata": {},
   "outputs": [],
   "source": [
    "model = TabularModel(emb_szs, len(to.cont_names), 1, [1000,500], y_range=(0,15)); model"
   ]
  },
  {
   "cell_type": "markdown",
   "metadata": {},
   "source": [
    "Now we can define our optimization function and create our `Learner`"
   ]
  },
  {
   "cell_type": "code",
   "execution_count": null,
   "metadata": {},
   "outputs": [],
   "source": [
    "opt_func = partial(Adam, wd=0.01, eps=1e-5)\n",
    "learn = Learner(dbunch, model, MSELossFlat(), opt_func=opt_func)"
   ]
  },
  {
   "cell_type": "code",
   "execution_count": null,
   "metadata": {},
   "outputs": [],
   "source": [
    "dbunch.train_dl.bs = 1024*4"
   ]
  },
  {
   "cell_type": "code",
   "execution_count": null,
   "metadata": {},
   "outputs": [],
   "source": [
    "learn.fit_one_cycle(5)"
   ]
  },
  {
   "cell_type": "markdown",
   "metadata": {},
   "source": [
    "I need to solve the bug for why we are not fitting properly, but this is also just a subset of the data. Hope this helps you get started! :)\n",
    "\n",
    "- muellerzr"
   ]
  },
  {
   "cell_type": "code",
   "execution_count": null,
   "metadata": {},
   "outputs": [],
   "source": [
    "p = learn.get_preds()"
   ]
  },
  {
   "cell_type": "code",
   "execution_count": null,
   "metadata": {},
   "outputs": [],
   "source": [
    "p.shape"
   ]
  },
  {
   "cell_type": "code",
   "execution_count": null,
   "metadata": {},
   "outputs": [],
   "source": []
  }
 ],
 "metadata": {
  "kernelspec": {
   "display_name": "Python 3",
   "language": "python",
   "name": "python3"
  },
  "language_info": {
   "codemirror_mode": {
    "name": "ipython",
    "version": 3
   },
   "file_extension": ".py",
   "mimetype": "text/x-python",
   "name": "python",
   "nbconvert_exporter": "python",
   "pygments_lexer": "ipython3",
   "version": "3.7.3"
  }
 },
 "nbformat": 4,
 "nbformat_minor": 1
}
